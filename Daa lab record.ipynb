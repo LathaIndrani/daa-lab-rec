{
 "cells": [
  {
   "cell_type": "raw",
   "id": "5b9c1c73",
   "metadata": {},
   "source": [
    "# LEADER ARRAY\n",
    "#A leader in an array is an element greater than or equal to all elements to its right. It is identified by scanning the\n",
    "#array from right to left, updating a maximum variable as leaders are found."
   ]
  },
  {
   "cell_type": "code",
   "execution_count": 3,
   "id": "0e875690",
   "metadata": {},
   "outputs": [
    {
     "name": "stdout",
     "output_type": "stream",
     "text": [
      "Leader numbers: [17, 5, 2]\n"
     ]
    }
   ],
   "source": [
    "a = [16, 17, 4, 3, 5, 2]\n",
    "leaders = []\n",
    "\n",
    "for i in range(len(a)):\n",
    "    if a[i] == max(a[i:]):\n",
    "        leaders.append(a[i])\n",
    "\n",
    "print(\"Leader numbers:\", leaders)"
   ]
  },
  {
   "cell_type": "raw",
   "id": "92efd8ed",
   "metadata": {},
   "source": [
    "# SORTING ARRAY\n",
    "#Given an array, the task is to sort it and create an output sequence that alternates between the smallest and largest \n",
    "#numbers. For example, for the array [3, 1, 4, 1, 5, 9, 2, 6, 5, 3, 5],the output would be \n",
    "#[1, 9, 1, 6, 2, 5, 3, 5, 4, 5, 3]."
   ]
  },
  {
   "cell_type": "code",
   "execution_count": 6,
   "id": "b8017860",
   "metadata": {},
   "outputs": [
    {
     "name": "stdout",
     "output_type": "stream",
     "text": [
      "[1, 9, 1, 8, 1, 6, 2, 5, 3, 5, 3, 4, 4]\n"
     ]
    }
   ],
   "source": [
    "def alternate_sort(arr):\n",
    "    arr.sort()\n",
    "    output = []\n",
    "    i, j = 0, len(arr) - 1\n",
    "    while i <= j:\n",
    "        output.append(arr[i])\n",
    "        if i != j:\n",
    "            output.append(arr[j])\n",
    "        i += 1\n",
    "        j -= 1\n",
    "    return output\n",
    "input_array = [3, 1, 4, 1, 5, 8, 2, 6, 5, 1, 9, 3, 4]\n",
    "result = alternate_sort(input_array)\n",
    "print(result)"
   ]
  },
  {
   "cell_type": "raw",
   "id": "2a78226e",
   "metadata": {},
   "source": [
    "# TRIPLET AND THEIR SUM\n",
    "#A triplet is a set of three elements in a sequence or array. Finding triplets involves identifying combinations of three \n",
    "#elements whose sum meets a specified criterion. (Sorting)"
   ]
  },
  {
   "cell_type": "code",
   "execution_count": 2,
   "id": "a7474dd9",
   "metadata": {},
   "outputs": [
    {
     "name": "stdout",
     "output_type": "stream",
     "text": [
      "enter the sum: 9\n",
      "Three triplets are: [1, 3, 5]\n"
     ]
    }
   ],
   "source": [
    "def find_three_numbers(arr, target_sum):\n",
    "    n = len(arr)\n",
    "    arr.sort()\n",
    "    for i in range(n - 2):\n",
    "        left, right = i + 1, n - 1\n",
    "        while left < right:\n",
    "            current_sum = arr[i] + arr[left] + arr[right]\n",
    "            if current_sum == target_sum:\n",
    "                return [arr[i], arr[left], arr[right]]\n",
    "            elif current_sum < target_sum:\n",
    "                left += 1\n",
    "            else:\n",
    "                right -= 1\n",
    "    return []\n",
    "arr = [1, 2, 3, 4, 5]\n",
    "target_sum = int(input(\"enter the sum: \"))\n",
    "result = find_three_numbers(arr, target_sum)\n",
    "if result:\n",
    "    print(\"Three triplets are:\", result)\n",
    "else:\n",
    "    print(\"No such triplet found.\")"
   ]
  },
  {
   "cell_type": "raw",
   "id": "6c29ef0a",
   "metadata": {},
   "source": [
    "# SORTING AN ARRAY\n",
    "#In the given example, the array with values [0, 0, 1, 2, 0, 1, 2, 2, 1] is sorted in a way that groups identical elements\n",
    "#together, resulting in the output [0, 0, 0, 1, 1, 1, 2, 2, 2]. This sorting method is often used for arrays containing \n",
    "#a limited set of distinct values"
   ]
  },
  {
   "cell_type": "code",
   "execution_count": 5,
   "id": "13029f16",
   "metadata": {},
   "outputs": [
    {
     "name": "stdout",
     "output_type": "stream",
     "text": [
      "[0, 0, 0, 1, 1, 1, 2, 2, 2]\n"
     ]
    }
   ],
   "source": [
    "def sort_array(arr):\n",
    "    counts = [0] * (max(arr) + 1)\n",
    "    for num in arr:\n",
    "        counts[num] += 1\n",
    "    sorted_array = []\n",
    "    for i in range(len(counts)):\n",
    "        sorted_array.extend([i] * counts[i])\n",
    "    return sorted_array\n",
    "input_array = [0, 0, 1, 2, 0, 1, 2, 2, 1]\n",
    "result = sort_array(input_array)\n",
    "print(result)"
   ]
  },
  {
   "cell_type": "raw",
   "id": "1beddf0f",
   "metadata": {},
   "source": [
    "# REMOVING DUPLICATE VALUES"
   ]
  },
  {
   "cell_type": "code",
   "execution_count": 9,
   "id": "03f2815f",
   "metadata": {},
   "outputs": [
    {
     "name": "stdout",
     "output_type": "stream",
     "text": [
      "{1, 7, 8, 9, 10, 11, 12}\n"
     ]
    }
   ],
   "source": [
    "a=[1,10,11,12,11,1,9,8,7,9]\n",
    "b =[]\n",
    "for i in range(len(a)-1):\n",
    "        if a[i]!=a[i+1]:\n",
    "            b.append(a[i])\n",
    "            c = set(b)\n",
    "print(c)"
   ]
  },
  {
   "cell_type": "raw",
   "id": "40424ad6",
   "metadata": {},
   "source": [
    "# TO FIND WHETHER THE LINKED LIST HAS A LOOP OR NOT"
   ]
  },
  {
   "cell_type": "code",
   "execution_count": 11,
   "id": "20166cbf",
   "metadata": {},
   "outputs": [
    {
     "name": "stdout",
     "output_type": "stream",
     "text": [
      "True\n"
     ]
    }
   ],
   "source": [
    "class ListNode:\n",
    "    def __init__(self, value):\n",
    "        self.value = value\n",
    "        self.next = None\n",
    "def has_loop(head):\n",
    "    tortoise = head\n",
    "    hare = head\n",
    "    while hare is not None and hare.next is not None:\n",
    "        tortoise = tortoise.next\n",
    "        hare = hare.next.next          \n",
    "        if tortoise == hare:\n",
    "            return True \n",
    "    return False \n",
    "node1 = ListNode(1)\n",
    "node2 = ListNode(2)\n",
    "node3 = ListNode(3)\n",
    "node4 = ListNode(4)\n",
    "node1.next = node2\n",
    "node2.next = node3\n",
    "node3.next = node4\n",
    "node4.next = node2 \n",
    "result = has_loop(node1)\n",
    "print(result)"
   ]
  },
  {
   "cell_type": "raw",
   "id": "608c5175",
   "metadata": {},
   "source": [
    "# TIME COMPLEXITY: N log N , A program with time complexity n log n"
   ]
  },
  {
   "cell_type": "code",
   "execution_count": 52,
   "id": "aed38758",
   "metadata": {},
   "outputs": [
    {
     "name": "stdout",
     "output_type": "stream",
     "text": [
      "Sorted array: [3, 9, 10, 27, 38, 43, 82]\n"
     ]
    }
   ],
   "source": [
    "def merge_sort(arr):\n",
    "    if len(arr) > 1:\n",
    "        mid = len(arr) // 2  \n",
    "        left_half = arr[:mid]  \n",
    "        right_half = arr[mid:]\n",
    "        merge_sort(left_half)  \n",
    "        merge_sort(right_half)\n",
    "        i, j, k = 0, 0, 0\n",
    "        while i < len(left_half) and j < len(right_half):\n",
    "            if left_half[i] < right_half[j]:\n",
    "                arr[k] = left_half[i]\n",
    "                i += 1\n",
    "            else:\n",
    "                arr[k] = right_half[j]\n",
    "                j += 1\n",
    "            k += 1\n",
    "        while i < len(left_half):\n",
    "            arr[k] = left_half[i]\n",
    "            i += 1\n",
    "            k += 1\n",
    "        while j < len(right_half):\n",
    "            arr[k] = right_half[j]\n",
    "            j += 1\n",
    "            k += 1\n",
    "input_array = [38, 27, 43, 3, 9, 82, 10]\n",
    "merge_sort(input_array)\n",
    "print(\"Sorted array:\", input_array)"
   ]
  },
  {
   "cell_type": "raw",
   "id": "5e841ffe",
   "metadata": {},
   "source": [
    "# MAXIMUM SUM"
   ]
  },
  {
   "cell_type": "code",
   "execution_count": 44,
   "id": "0cbdd9c7",
   "metadata": {},
   "outputs": [
    {
     "name": "stdout",
     "output_type": "stream",
     "text": [
      "Maximum sum of an arr: 7\n"
     ]
    }
   ],
   "source": [
    "def max_sum(arr):\n",
    "    if not arr:\n",
    "        return 0\n",
    "\n",
    "    max_sum = current_sum = arr[0]\n",
    "\n",
    "    for num in arr[1:]:\n",
    "        current_sum = max(num, current_sum + num)\n",
    "        max_sum = max(max_sum, current_sum)\n",
    "\n",
    "    return max_sum\n",
    "\n",
    "arr = [1, -3, 4, -2, -1, 6]\n",
    "print(\"Maximum sum of an arr:\",max_sum(arr) )"
   ]
  },
  {
   "cell_type": "raw",
   "id": "f5a9a175",
   "metadata": {},
   "source": [
    "# DIAGONAL INTERCHANGE\n",
    "#The task is to interchange the values of the left and right diagonals in a square matrix, achieved by swapping the corner\n",
    "#elements of the matrix."
   ]
  },
  {
   "cell_type": "code",
   "execution_count": 19,
   "id": "4390e578",
   "metadata": {},
   "outputs": [
    {
     "name": "stdout",
     "output_type": "stream",
     "text": [
      "[[0 1 2]\n",
      " [3 4 5]\n",
      " [6 7 8]]\n",
      "\n",
      "[[2 1 0]\n",
      " [3 4 5]\n",
      " [8 7 6]]\n"
     ]
    }
   ],
   "source": [
    "import numpy as np\n",
    "values = [0,1,2,3,4,5,6,7,8]\n",
    "x = np.array(values).reshape(3, 3)\n",
    "print(x)\n",
    "print(\"\")\n",
    "for i in range(3):\n",
    "    for j in range(3):\n",
    "        x[0][0],x[0][2] = x[0][2],x[0][0] \n",
    "        x[2][0],x[2][2] = x[2][2],x[2][0]\n",
    "print(x)"
   ]
  },
  {
   "cell_type": "raw",
   "id": "987e1d9e",
   "metadata": {},
   "source": [
    "#INDEX FINDER\n",
    "#Given an array, the task is to display the indices of a specified number in the array. This involves finding the occurrences \n",
    "#of the number and returning their respective indices."
   ]
  },
  {
   "cell_type": "code",
   "execution_count": 21,
   "id": "c6cb3885",
   "metadata": {},
   "outputs": [
    {
     "name": "stdout",
     "output_type": "stream",
     "text": [
      "The indices of 4 in the array are: [0, 4, 6]\n"
     ]
    }
   ],
   "source": [
    "def find_indices(arr, target):\n",
    "    indices = []\n",
    "    for i in range(len(arr)):\n",
    "        if arr[i] == target:\n",
    "            indices.append(i)\n",
    "    return indices\n",
    "input_array = [4, 2, 7, 1, 4, 5, 4, 9]\n",
    "target_number = 4\n",
    "result = find_indices(input_array, target_number)\n",
    "if result:\n",
    "    print(f\"The indices of {target_number} in the array are: {result}\")\n",
    "else:\n",
    "    print(f\"{target_number} is not present in the array.\")"
   ]
  },
  {
   "cell_type": "raw",
   "id": "9c8741fb",
   "metadata": {},
   "source": [
    "# ROWS WITH MOST NO OF 1's"
   ]
  },
  {
   "cell_type": "code",
   "execution_count": 55,
   "id": "b68091c7",
   "metadata": {},
   "outputs": [
    {
     "name": "stdout",
     "output_type": "stream",
     "text": [
      "Row index with the most ones: 1\n"
     ]
    }
   ],
   "source": [
    "matrix = [[1, 0, 1, 1],\n",
    "          [1, 1, 1, 1],\n",
    "          [1, 0, 1, 0],\n",
    "          [1, 0, 0, 1]]\n",
    "def mostones(matrix):\n",
    "    max_ones = 0\n",
    "    row_index = -1\n",
    "    for i, row in enumerate(matrix):\n",
    "        count_ones = row.count(1)\n",
    "        if count_ones > max_ones:\n",
    "            max_ones = count_ones\n",
    "            row_index = i\n",
    "    return row_index\n",
    "print(\"Row index with the most ones:\",mostones(matrix) )"
   ]
  },
  {
   "cell_type": "raw",
   "id": "e172671e",
   "metadata": {},
   "source": [
    "# MIDDLE ROW AND COLUMN SUM \n",
    "#The task is to calculate the sum of the middle row and middle column in a matrix, involving finding the central elements and \n",
    "#adding up their respective rows and columns. This problem is relevant in array manipulation and matrix operations"
   ]
  },
  {
   "cell_type": "code",
   "execution_count": 51,
   "id": "c7eedd42",
   "metadata": {},
   "outputs": [
    {
     "name": "stdout",
     "output_type": "stream",
     "text": [
      "[[1 2 3]\n",
      " [4 5 6]\n",
      " [7 8 9]]\n",
      "Sum of the middle row: 15\n",
      "Sum of the middle column: 15\n"
     ]
    }
   ],
   "source": [
    "import numpy as py\n",
    "x = [1,2,3,4,5,6,7,8,9]\n",
    "matrix = py.array(x).reshape(3, 3)\n",
    "print(matrix)\n",
    "rows = len(matrix)\n",
    "columns = len(matrix[0])\n",
    "if rows % 2 != 0 and columns % 2 != 0:\n",
    "    middle_row = rows // 2\n",
    "    middle_column = columns // 2\n",
    "    sum_middle_row = sum(matrix[middle_row])\n",
    "    sum_middle_column = sum(row[middle_column] for row in matrix)\n",
    "print(f\"Sum of the middle row: {sum_middle_row}\")\n",
    "print(f\"Sum of the middle column: {sum_middle_column}\")"
   ]
  },
  {
   "cell_type": "raw",
   "id": "30ff254c",
   "metadata": {},
   "source": [
    "# MATRIX SORTING AND DIAGONAL REPLACEMENT \n",
    "#The task is to sort a matrix without using any Python built-in libraries and subsequently replace both left and right \n",
    "#diagonals with zeros. This problem involves custom sorting algorithms and matrix manipulation"
   ]
  },
  {
   "cell_type": "code",
   "execution_count": 33,
   "id": "d1c558cf",
   "metadata": {},
   "outputs": [
    {
     "name": "stdout",
     "output_type": "stream",
     "text": [
      "[[7 6 5]\n",
      " [1 2 3]\n",
      " [8 4 9]]\n",
      "[[1 2 3]\n",
      " [4 5 6]\n",
      " [7 8 9]]\n",
      "[[0 6 0]\n",
      " [1 0 3]\n",
      " [0 4 0]]\n"
     ]
    }
   ],
   "source": [
    "import numpy as py\n",
    "x = [7,6,5,1,2,3,8,4,9]\n",
    "y = np.array(x).reshape(3, 3)\n",
    "print(y)\n",
    "for i in range(len(x)):\n",
    "    min_index = i\n",
    "    for j in range(i + 1, len(x)):\n",
    "        if x[j] < x[min_index]:\n",
    "            min_index = j\n",
    "    if min_index != i:\n",
    "        x[i], x[min_index] = x[min_index], x[i]\n",
    "z = np.array(x).reshape(3, 3)\n",
    "print(z)\n",
    "for i in range(3):\n",
    "    for j in range(3):\n",
    "        if i == j:\n",
    "            y[i][j] = 0\n",
    "        elif((i==0 and j==2) or (i==2 and j==0)):\n",
    "            y[i][j] = 0\n",
    "a = np.array(y).reshape(3,3)\n",
    "print(a)"
   ]
  },
  {
   "cell_type": "raw",
   "id": "44995d95",
   "metadata": {},
   "source": [
    "#INTEGER MULTIPLICATION WITHOUT OPERATORS "
   ]
  },
  {
   "cell_type": "code",
   "execution_count": 35,
   "id": "44e6428d",
   "metadata": {},
   "outputs": [
    {
     "name": "stdout",
     "output_type": "stream",
     "text": [
      "Enter your first number: -33\n",
      "Enter your second number: -15\n",
      "495\n"
     ]
    }
   ],
   "source": [
    "a = int(input(\"Enter your first number: \"))\n",
    "b = int(input(\"Enter your second number: \"))\n",
    "def multiply(x, y):\n",
    "    if y == 0:\n",
    "        return 0\n",
    "    if y > 0:\n",
    "        return x + multiply(x, y - 1)\n",
    "    if y < 0:\n",
    "        return - multiply(x, -y)\n",
    "result = multiply(a,b)\n",
    "print(result) "
   ]
  },
  {
   "cell_type": "raw",
   "id": "6d8250fb",
   "metadata": {},
   "source": [
    "# BINARY SEARCH TREE NODE SEARCH"
   ]
  },
  {
   "cell_type": "code",
   "execution_count": 37,
   "id": "2dc67879",
   "metadata": {},
   "outputs": [
    {
     "name": "stdout",
     "output_type": "stream",
     "text": [
      "Enter the elements to search for: 20\n",
      "Found\n"
     ]
    }
   ],
   "source": [
    "class Node:\n",
    "    def __init__ (self,value):\n",
    "        self.value = value\n",
    "        self.left = None\n",
    "        self.right = None\n",
    "def search_bst(root,ele):\n",
    "    if root is None:\n",
    "        return False\n",
    "    if root.value == ele:\n",
    "        return True\n",
    "    if ele < root.value:\n",
    "        return search_bst(root.left, ele)\n",
    "    else:\n",
    "        return search_bst(root.right, ele)\n",
    "root = Node(10)\n",
    "root.left = Node(8)\n",
    "root.right = Node(20)\n",
    "root.left.left = Node(7)\n",
    "root.left.right = Node(9)\n",
    "root.right.left = Node(15)\n",
    "root.right.right = Node(21)\n",
    "ele = int(input(\"Enter the elements to search for: \"))\n",
    "found = search_bst(root,ele)\n",
    "if found:\n",
    "    print(\"Found\".format(ele))\n",
    "else:\n",
    "    print(\"Not found\". format(ele))"
   ]
  },
  {
   "cell_type": "raw",
   "id": "012f5593",
   "metadata": {},
   "source": [
    "#LEAF NODE SUM IN A TREE "
   ]
  },
  {
   "cell_type": "code",
   "execution_count": 39,
   "id": "905d91a6",
   "metadata": {},
   "outputs": [
    {
     "name": "stdout",
     "output_type": "stream",
     "text": [
      "The sum of all leaf nodes is  52\n"
     ]
    }
   ],
   "source": [
    "class Node:\n",
    "    def __init__ (self,value):\n",
    "        self.value = value\n",
    "        self.left = None\n",
    "        self.right = None\n",
    "def sumofleafnodes(root):\n",
    "    if root is None:\n",
    "        return 0\n",
    "    elif root.left is None and root.right is None:\n",
    "        return root.value\n",
    "    return sumofleafnodes(root.left) + sumofleafnodes(root.right)\n",
    "root = Node(10)\n",
    "root.left = Node(8)\n",
    "root.right = Node(20)\n",
    "root.left.left = Node(7)\n",
    "root.left.right = Node(9)\n",
    "root.right.left = Node(15)\n",
    "root.right.right = Node(21)\n",
    "sum = sumofleafnodes(root)\n",
    "print(\"The sum of all leaf nodes is \",format(sum))"
   ]
  },
  {
   "cell_type": "raw",
   "id": "77c9940b",
   "metadata": {},
   "source": [
    "# SPINAL (ZIG-ZAG) ORDER TREEE TRANSVERSAL\n",
    "#The task involves printing the nodes of a binary tree in a spiral (zigzag) manner, alternating between left-to-right and \n",
    "#right-to-left traversal at each level. This problem explores tree traversal techniques"
   ]
  },
  {
   "cell_type": "code",
   "execution_count": 41,
   "id": "35dedca7",
   "metadata": {},
   "outputs": [
    {
     "name": "stdout",
     "output_type": "stream",
     "text": [
      "Spiral Order traversal of the BST:\n",
      "1 3 2 4 5 6 7 15 14 13 12 11 10 9 8 "
     ]
    }
   ],
   "source": [
    "class Node:\n",
    "    def __init__(self, key):\n",
    "        self.data = key\n",
    "        self.left = None\n",
    "        self.right = None\n",
    "def printSpiral(root):\n",
    "    if root is None:\n",
    "        return\n",
    "    stack1 = []  \n",
    "    stack2 = []  \n",
    "    stack1.append(root)  # Start with the root node\n",
    "    while stack1 or stack2:\n",
    "        while stack1:\n",
    "            node = stack1.pop()\n",
    "            print(node.data, end=\" \")\n",
    "\n",
    "            if node.left:\n",
    "                stack2.append(node.left)\n",
    "            if node.right:\n",
    "                stack2.append(node.right)\n",
    "        while stack2:\n",
    "            node = stack2.pop()\n",
    "            print(node.data, end=\" \")\n",
    "            if node.right:\n",
    "                stack1.append(node.right)\n",
    "            if node.left:\n",
    "                stack1.append(node.left)\n",
    "root = Node(1)\n",
    "root.left = Node(2)\n",
    "root.right = Node(3)\n",
    "root.left.left = Node(4)\n",
    "root.left.right = Node(5)\n",
    "root.right.left = Node(6)\n",
    "root.right.right = Node(7)\n",
    "root.left.left.left = Node(8)\n",
    "root.left.left.right = Node(9)\n",
    "root.left.right.left = Node(10)\n",
    "root.left.right.right = Node(11)\n",
    "root.right.left.left = Node(12)\n",
    "root.right.left.right = Node(13)\n",
    "root.right.right.left = Node(14)\n",
    "root.right.right.right = Node(15)\n",
    "print(\"Spiral Order traversal of the BST:\")\n",
    "printSpiral(root)"
   ]
  }
 ],
 "metadata": {
  "kernelspec": {
   "display_name": "Python 3 (ipykernel)",
   "language": "python",
   "name": "python3"
  },
  "language_info": {
   "codemirror_mode": {
    "name": "ipython",
    "version": 3
   },
   "file_extension": ".py",
   "mimetype": "text/x-python",
   "name": "python",
   "nbconvert_exporter": "python",
   "pygments_lexer": "ipython3",
   "version": "3.9.12"
  }
 },
 "nbformat": 4,
 "nbformat_minor": 5
}
